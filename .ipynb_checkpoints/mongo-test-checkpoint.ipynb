{
 "cells": [
  {
   "cell_type": "code",
   "execution_count": 1,
   "metadata": {},
   "outputs": [],
   "source": [
    "from pymongo import MongoClient\n",
    "from bson.objectid import ObjectId"
   ]
  },
  {
   "cell_type": "code",
   "execution_count": 2,
   "metadata": {},
   "outputs": [],
   "source": [
    "client = MongoClient()"
   ]
  },
  {
   "cell_type": "code",
   "execution_count": 3,
   "metadata": {},
   "outputs": [],
   "source": [
    "db = client['contractor']"
   ]
  },
  {
   "cell_type": "code",
   "execution_count": 4,
   "metadata": {},
   "outputs": [
    {
     "name": "stdout",
     "output_type": "stream",
     "text": [
      "reviews\n",
      "products\n",
      "cart\n",
      "users\n",
      "session\n"
     ]
    },
    {
     "name": "stderr",
     "output_type": "stream",
     "text": [
      "/usr/local/lib/python3.7/site-packages/ipykernel_launcher.py:1: DeprecationWarning: collection_names is deprecated. Use list_collection_names instead.\n",
      "  \"\"\"Entry point for launching an IPython kernel.\n"
     ]
    }
   ],
   "source": [
    "for row in db.collection_names():\n",
    "    print(row)"
   ]
  },
  {
   "cell_type": "code",
   "execution_count": 5,
   "metadata": {},
   "outputs": [],
   "source": [
    "session = db['session']\n",
    "reviews = db['reviews']\n",
    "products = db['products']\n",
    "cart = db['cart']"
   ]
  },
  {
   "cell_type": "code",
   "execution_count": 6,
   "metadata": {},
   "outputs": [],
   "source": [
    "def print_reviews():\n",
    "    print(\"Reviews:\")\n",
    "    for row in reviews.find():\n",
    "        print(row)\n",
    "        \n",
    "def print_products():\n",
    "    print(\"Products:\")\n",
    "    for row in products.find():\n",
    "        print(row)\n",
    "        \n",
    "def print_cart():\n",
    "    print(\"Cart:\")\n",
    "    for row in cart.find():\n",
    "        print(row)\n",
    "        \n",
    "def print_session():\n",
    "    print(\"Session:\")\n",
    "    for row in session.find():\n",
    "        print(row)"
   ]
  },
  {
   "cell_type": "code",
   "execution_count": 7,
   "metadata": {},
   "outputs": [
    {
     "data": {
      "text/plain": [
       "<pymongo.results.DeleteResult at 0x1072ee3c0>"
      ]
     },
     "execution_count": 7,
     "metadata": {},
     "output_type": "execute_result"
    }
   ],
   "source": [
    "session.delete_many({})"
   ]
  },
  {
   "cell_type": "code",
   "execution_count": 8,
   "metadata": {},
   "outputs": [
    {
     "name": "stdout",
     "output_type": "stream",
     "text": [
      "Session:\n"
     ]
    }
   ],
   "source": [
    "print_session()"
   ]
  },
  {
   "cell_type": "code",
   "execution_count": 9,
   "metadata": {},
   "outputs": [
    {
     "name": "stdout",
     "output_type": "stream",
     "text": [
      "Products:\n",
      "{'_id': ObjectId('5d9fa4d0c63de1d2ba88c3d3'), 'product_type': 'sock', 'name': 'Standard Hawaii Sock', 'pic_path': '/static/standard_hawaii_sock.jpg', 'price': 25, 'reviews_id': 456, 'description': 'Your go-to sock when travelling to the tropics', 'inventory': 48}\n",
      "{'_id': ObjectId('5d9fa4d0c63de1d2ba88c3d4'), 'product_type': 'sock', 'name': 'Fruit Loop Sock', 'pic_path': '/static/fruit_loop_sock.jpg', 'price': 30, 'reviews_id': 113, 'description': 'For when you are feeling qwerky', 'inventory': 10}\n",
      "{'_id': ObjectId('5d9fa4d0c63de1d2ba88c3d5'), 'product_type': 'sock', 'name': 'Coder Sock', 'pic_path': '/static/coder_sock.jpg', 'price': 10, 'reviews_id': 990, 'description': 'If you code, you need to wear this sock at all times', 'inventory': 0}\n",
      "{'_id': ObjectId('5d9fa4d0c63de1d2ba88c3d6'), 'product_type': 'hoodie', 'name': 'Feel Good Hood', 'pic_path': '/static/feel_good_hood.jpg', 'price': 70, 'reviews_id': 277, 'description': 'Wearing this hoodie will put you in the mood to feel good', 'inventory': 100}\n",
      "{'_id': ObjectId('5d9fa4d0c63de1d2ba88c3d7'), 'product_type': 'hoodie', 'name': 'Spooky Hoodie', 'pic_path': '/static/spooky_hoodie.jpg', 'price': 100, 'reviews_id': 132, 'description': 'Its spooky szn. Period.', 'inventory': 20}\n",
      "{'_id': ObjectId('5d9fa4d0c63de1d2ba88c3d8'), 'product_type': 'hoodie', 'name': 'Moody Hoodie', 'pic_path': '/static/moody_hoodie.jpg', 'price': 20, 'reviews_id': 901, 'description': 'For the rainy days', 'inventory': 40}\n",
      "{'_id': ObjectId('5d9fa4d0c63de1d2ba88c3d9'), 'product_type': 'shirt', 'name': 'Three Comma Club Shirt', 'pic_path': '/static/three_comma_club_shirt.jpg', 'price': 1000000000, 'reviews_id': 111, 'description': 'You know who you are. ', 'inventory': 1}\n",
      "{'_id': ObjectId('5d9fa4d0c63de1d2ba88c3da'), 'product_type': 'shirt', 'name': 'Bad Boys Shirt', 'pic_path': '/static/bad_boys_shirt.jpg', 'price': 10, 'reviews_id': 111, 'description': 'You also know who you are.', 'inventory': 30}\n",
      "{'_id': ObjectId('5d9fa4d0c63de1d2ba88c3db'), 'product_type': 'shirt', 'name': 'Semicolon Shirt', 'pic_path': '/static/semicolon_shirt.jpg', 'price': 40, 'reviews_id': 444, 'description': 'Period plus a comma, what else could you want?', 'inventory': 40}\n"
     ]
    }
   ],
   "source": [
    "print_products()"
   ]
  },
  {
   "cell_type": "code",
   "execution_count": 15,
   "metadata": {},
   "outputs": [],
   "source": [
    "for item in products.find({'_id': ObjectId('5d9fa4d0c63de1d2ba88c3d3')}"
   ]
  },
  {
   "cell_type": "code",
   "execution_count": 10,
   "metadata": {},
   "outputs": [
    {
     "name": "stdout",
     "output_type": "stream",
     "text": [
      "Reviews:\n",
      "{'_id': ObjectId('5d9bad1d2b3bd88348718a19'), 'product_id': '5d9bad142b3bd88348718a10', 'name': 'Andrey', 'content': 'jalksjd'}\n",
      "{'_id': ObjectId('5d9bad5468337d83f9629aeb'), 'product_id': '5d9bad4a68337d83f9629ae2', 'name': 'Andrey', 'content': 'Great sock'}\n",
      "{'_id': ObjectId('5d9bad6068337d83f9629aec'), 'product_id': '5d9bad4a68337d83f9629ae2', 'name': 'Josh', 'content': 'Recommend for anyone!'}\n",
      "{'_id': ObjectId('5d9bad99d9769edd7f35c217'), 'product_id': '5d9bad86d9769edd7f35c20f', 'name': 'Andrey', 'content': 'jslkdjf'}\n",
      "{'_id': ObjectId('5d9badb1d9769edd7f35c218'), 'product_id': '5d9bad86d9769edd7f35c20f', 'name': 'Josh', 'content': 'Lit ass sock bro'}\n",
      "{'_id': ObjectId('5d9bb00fd9769edd7f35c219'), 'product_id': '5d9bad86d9769edd7f35c20e', 'name': 'Josh', 'content': 'Love it'}\n"
     ]
    }
   ],
   "source": [
    "print_reviews()"
   ]
  },
  {
   "cell_type": "code",
   "execution_count": 11,
   "metadata": {},
   "outputs": [
    {
     "name": "stdout",
     "output_type": "stream",
     "text": [
      "Cart:\n",
      "{'_id': ObjectId('5d9fa533c63de1d2ba88c3dc'), 'product_id': '5d9fa4d0c63de1d2ba88c3d3', 'name': 'Standard Hawaii Sock', 'pic_path': '/static/standard_hawaii_sock.jpg', 'price': 25, 'reviews_id': 456, 'description': 'Your go-to sock when travelling to the tropics', 'inventory': 50}\n",
      "{'_id': ObjectId('5d9fa668c63de1d2ba88c3dd'), 'product_id': '5d9fa4d0c63de1d2ba88c3d3', 'name': 'Standard Hawaii Sock', 'pic_path': '/static/standard_hawaii_sock.jpg', 'price': 25, 'reviews_id': 456, 'description': 'Your go-to sock when travelling to the tropics', 'inventory': 49}\n",
      "{'_id': ObjectId('5d9fa676c63de1d2ba88c3de'), 'product_id': '5d9fa4d0c63de1d2ba88c3d5', 'name': 'Coder Sock', 'pic_path': '/static/coder_sock.jpg', 'price': 10, 'reviews_id': 990, 'description': 'If you code, you need to wear this sock at all times', 'inventory': 2}\n",
      "{'_id': ObjectId('5d9fa677c63de1d2ba88c3df'), 'product_id': '5d9fa4d0c63de1d2ba88c3d5', 'name': 'Coder Sock', 'pic_path': '/static/coder_sock.jpg', 'price': 10, 'reviews_id': 990, 'description': 'If you code, you need to wear this sock at all times', 'inventory': 1}\n"
     ]
    }
   ],
   "source": [
    "print_cart()"
   ]
  },
  {
   "cell_type": "code",
   "execution_count": null,
   "metadata": {},
   "outputs": [],
   "source": []
  }
 ],
 "metadata": {
  "kernelspec": {
   "display_name": "Python 3",
   "language": "python",
   "name": "python3"
  },
  "language_info": {
   "codemirror_mode": {
    "name": "ipython",
    "version": 3
   },
   "file_extension": ".py",
   "mimetype": "text/x-python",
   "name": "python",
   "nbconvert_exporter": "python",
   "pygments_lexer": "ipython3",
   "version": "3.7.4"
  }
 },
 "nbformat": 4,
 "nbformat_minor": 2
}
